{
 "cells": [
  {
   "cell_type": "code",
   "execution_count": 39,
   "id": "add2de20",
   "metadata": {},
   "outputs": [],
   "source": [
    "from recommender.User import User\n",
    "from recommender.Articles import ArticlesModel, ArticlesVec, ArticlesGeo\n",
    "from recommender.Clustering import Clustering\n",
    "from recommender.DataLoader import DataLoader\n",
    "import numpy as np\n",
    "from gensim.models import KeyedVectors\n",
    "import gensim.downloader as api\n",
    "import folium"
   ]
  },
  {
   "cell_type": "code",
   "execution_count": 40,
   "id": "d17e4a97",
   "metadata": {},
   "outputs": [],
   "source": [
    "model = KeyedVectors.load_word2vec_format(api.load('word2vec-google-news-300', return_path=True), binary=True, limit=100000)"
   ]
  },
  {
   "cell_type": "code",
   "execution_count": 41,
   "id": "950a517d",
   "metadata": {},
   "outputs": [],
   "source": [
    "topics = np.load('data/topics.npy')"
   ]
  },
  {
   "cell_type": "markdown",
   "id": "50a3a350",
   "metadata": {},
   "source": [
    "## DataLoader"
   ]
  },
  {
   "cell_type": "code",
   "execution_count": 42,
   "id": "5fedb88f",
   "metadata": {
    "scrolled": true
   },
   "outputs": [],
   "source": [
    "dataloader = DataLoader(model=model)\n",
    "data = dataloader.load_preprocess()"
   ]
  },
  {
   "cell_type": "markdown",
   "id": "ce371805",
   "metadata": {},
   "source": [
    "## Articles"
   ]
  },
  {
   "cell_type": "code",
   "execution_count": 43,
   "id": "6dd179be",
   "metadata": {},
   "outputs": [],
   "source": [
    "articles = ArticlesModel(data, topics, model)"
   ]
  },
  {
   "cell_type": "markdown",
   "id": "1d24ef76",
   "metadata": {},
   "source": [
    "#### Save articles vectorization based on the topics"
   ]
  },
  {
   "cell_type": "code",
   "execution_count": 6,
   "id": "a22be4e8",
   "metadata": {},
   "outputs": [],
   "source": [
    "articles.save_vec_by_topics()"
   ]
  },
  {
   "cell_type": "markdown",
   "id": "e7f78712",
   "metadata": {},
   "source": [
    "#### Get the summary of the best articles by arbitrary topic(s)"
   ]
  },
  {
   "cell_type": "code",
   "execution_count": 10,
   "id": "67ad991d",
   "metadata": {
    "scrolled": true
   },
   "outputs": [
    {
     "name": "stdout",
     "output_type": "stream",
     "text": [
      "The Rosenlaui Glacier, located to the south of Meiringen, in the canton of Bern, might be small, since it has an area of only six square kilometers, but thanks to this glacier two beautiful natural attractions have come into being - Glacier Gorge Rosenlaui and the world-famous Reichenbach Falls.\n",
      "\n",
      "Les Diablerets, an important centre for adventure sports, lies between Lake Geneva and Gstaad at an altitude of 1200 metres. Even in summer, the Glacier 3000 ski region in the heart of the Vaud Alps offers skiing and glacier enjoyment over an expansive area.\n",
      "\n",
      "The vacation region around the Black Lake and in the Eastern Freiburg Pre-Alps (Voralpen) is well-known for its authenticity and its wild, romantic natural landscape, which includes the dark appearance of the Black Lake and the Brecca Abyss, an Alpine valley formed by glaciers.\n",
      "\n",
      "The Bern bear pit is an attraction that is known far beyond the borders of Switzerland. Since 2009 the bears of Bern also have a modern 6,000 square meters park at their disposal - which they can reach via a tunnel.\n",
      "\n",
      "A singular panoramic view awaits: over the Swiss and French Alps from Eiger to Mont-Blanc and further to Lake Geneva.\n",
      "\n",
      "Lucerne’s Pilatus mountain (2,118m above sea level) boasts some of the most spectacular views in Switzerland. From the summit, you can see across the Central Swiss Alps and the Jura all the way to France and the Black Forest in Germany.\n",
      "\n",
      "Together with a mountain guide, the trappers wend their way through the snow-covered Diemtigtal Valley.\n",
      "\n",
      "Eastern Switzerland stretches from the shimmering waters of Lake Constance across the hilly Appenzellerland to the Alpine landscapes of Toggenburg, the Heidiland holiday region and the Glarnerland. Far off in the Rhine Valley is Vaduz with its princes' castle.\n",
      "\n",
      "Two gondola railways make their way up from Bad Ragaz or Wangs to the edge of the forest, from where you enjoy far-reaching views over the Rhine Valley to Lake Constance – and chairlifts carrying you to the Pizol ridge if you wish to venture further afield.\n",
      "\n",
      "Aarau, the capital of the Canton of Aargau in the Swiss Mittelland, is located on the River Aare to which the town and canton owe their name. The charming old town boasts the most beautiful eaves, the so-called «Dachhimmel», in Switzerland.\n",
      "\n"
     ]
    }
   ],
   "source": [
    "ids = articles.ids_top_articles_by_topic(['Bern', 'Mountain'])\n",
    "for idx in ids:\n",
    "    print(articles.get_summary(idx) + '\\n')"
   ]
  },
  {
   "cell_type": "markdown",
   "id": "10b43479",
   "metadata": {},
   "source": [
    "#### Get information about a specific article with known idx"
   ]
  },
  {
   "cell_type": "code",
   "execution_count": 11,
   "id": "ed3b345e",
   "metadata": {},
   "outputs": [
    {
     "name": "stdout",
     "output_type": "stream",
     "text": [
      "Situated in the heart of Gruyère, the city of Bulle is the administrative capital of this largely agricultural region and has a wealth of attractions to appeal to all tastes.\n",
      "\n",
      "In this preserved and unspoilt environment, the visitor can enjoy the most varied and seasonal activities in a pastoral setting.Firmly anchored in ancestral and typical traditions, its museum charts the marked development of the town and its surrounding region. Renowned as a cultural meeting place, the city boasts folk markets, livestock fairs, salons, exhibitions, theatres, concerts and shows which attract a very diverse public audience.The culinary arts remain the focal point for many visitors to Gruyère, and each year the local restaurants offer Bénichon feast menus alongside regional specialities.\n",
      "\n",
      "['Situated', 'heart', 'city', 'administrative', 'capital', 'largely', 'agricultural', 'region', 'wealth', 'attractions', 'appeal', 'tastes']\n",
      "\n",
      "[0.0022415072728862455, 0.0018540512203218218, 0.001570759888912265, 0.8159066280269245, 0.019430990626078903, 0.002247115201461681, 0.012976823312358367, 0.005048154558194967, 0.009684180069329106, 0.04949996360441511, 0.008720505954559995, 0.013122597252499245, 0.0017407936148614506, 0.0017631134290345177, 0.01258551415624281, 0.0017335295670402487, 0.020858475907017, 0.01703642003015774, 0.001978876307703897]\n"
     ]
    }
   ],
   "source": [
    "idx = 0\n",
    "\n",
    "summary = articles.get_summary(idx)\n",
    "content = articles.get_content(idx)\n",
    "preprocessed = articles.get_preprocessed(idx)\n",
    "vector = articles.get_vec(idx)\n",
    "\n",
    "print(summary, content, preprocessed, vector, sep='\\n\\n')"
   ]
  },
  {
   "cell_type": "markdown",
   "id": "341fe3a7",
   "metadata": {},
   "source": [
    "#### Plot topic weights for a given article"
   ]
  },
  {
   "cell_type": "code",
   "execution_count": 44,
   "id": "4e8022a2",
   "metadata": {
    "scrolled": true
   },
   "outputs": [
    {
     "name": "stdout",
     "output_type": "stream",
     "text": [
      "Learn to ski in the place where the world's top ski athletes compete: on Corviglia above St. Moritz. Your first ski lesson is rewarded with a carriage ride to the slope and back.\n"
     ]
    },
    {
     "data": {
      "image/png": "[encoded data removed]",
      "text/plain": [
       "<Figure size 720x360 with 1 Axes>"
      ]
     },
     "metadata": {
      "needs_background": "light"
     },
     "output_type": "display_data"
    },
    {
     "data": {
      "text/plain": [
       "<Figure size 432x288 with 0 Axes>"
      ]
     },
     "metadata": {},
     "output_type": "display_data"
    }
   ],
   "source": [
    "idx = 417\n",
    "articles.plot_weights(idx, print_content=False, save_path='images/img5.png')"
   ]
  },
  {
   "cell_type": "markdown",
   "id": "f4920f4e",
   "metadata": {},
   "source": [
    "#### Use a precomputed topics based vector representation for the articles to speed up the object initialization"
   ]
  },
  {
   "cell_type": "code",
   "execution_count": null,
   "id": "3ebb1be1",
   "metadata": {},
   "outputs": [],
   "source": [
    "vec_by_topics = np.load('data/vec_articles.npy')\n",
    "articles = ArticlesVec(data, topics, vec_by_topics)"
   ]
  },
  {
   "cell_type": "markdown",
   "id": "ee0c9208",
   "metadata": {},
   "source": [
    "## User"
   ]
  },
  {
   "cell_type": "code",
   "execution_count": null,
   "id": "1b6e5a60",
   "metadata": {},
   "outputs": [],
   "source": [
    "topics"
   ]
  },
  {
   "cell_type": "code",
   "execution_count": null,
   "id": "5fc3a4d0",
   "metadata": {},
   "outputs": [],
   "source": [
    "choices = ['ski', 'spa']\n",
    "\n",
    "user = User(topics, choices)"
   ]
  },
  {
   "cell_type": "markdown",
   "id": "8d07b59d",
   "metadata": {},
   "source": [
    "#### Recommend articles for the user"
   ]
  },
  {
   "cell_type": "code",
   "execution_count": null,
   "id": "8af5e31d",
   "metadata": {},
   "outputs": [],
   "source": [
    "n_recommendations = 5\n",
    "\n",
    "recommended_articles_ids, recommended_articles_vec = articles.recommend_articles(user, n_recommendations)\n",
    "for i, idx in enumerate(recommended_articles_ids):\n",
    "    print(i, articles.get_summary(idx), sep=': ', end='\\n\\n')"
   ]
  },
  {
   "cell_type": "code",
   "execution_count": null,
   "id": "d5bb32f4",
   "metadata": {},
   "outputs": [],
   "source": [
    "seen_articles = [0,3]\n",
    "\n",
    "user.update(np.array(recommended_articles_vec)[seen_articles])\n",
    "user.add_seen_articles(np.array(recommended_articles_vec)[seen_articles])"
   ]
  },
  {
   "cell_type": "markdown",
   "id": "f68b15ad",
   "metadata": {},
   "source": [
    "#### Plot topic weights for the user"
   ]
  },
  {
   "cell_type": "code",
   "execution_count": 8,
   "id": "90a80bc7",
   "metadata": {
    "scrolled": true
   },
   "outputs": [
    {
     "ename": "NameError",
     "evalue": "name 'user' is not defined",
     "output_type": "error",
     "traceback": [
      "\u001b[1;31m---------------------------------------------------------------------------\u001b[0m",
      "\u001b[1;31mNameError\u001b[0m                                 Traceback (most recent call last)",
      "\u001b[1;32m~\\AppData\\Local\\Temp/ipykernel_22884/1681321061.py\u001b[0m in \u001b[0;36m<module>\u001b[1;34m\u001b[0m\n\u001b[1;32m----> 1\u001b[1;33m \u001b[0muser\u001b[0m\u001b[1;33m.\u001b[0m\u001b[0mplot_weights\u001b[0m\u001b[1;33m(\u001b[0m\u001b[1;33m)\u001b[0m\u001b[1;33m\u001b[0m\u001b[1;33m\u001b[0m\u001b[0m\n\u001b[0m",
      "\u001b[1;31mNameError\u001b[0m: name 'user' is not defined"
     ]
    }
   ],
   "source": [
    "user.plot_weights()"
   ]
  },
  {
   "cell_type": "markdown",
   "id": "381867f1",
   "metadata": {},
   "source": [
    "## Clustering"
   ]
  },
  {
   "cell_type": "code",
   "execution_count": 7,
   "id": "c9b2f8ed",
   "metadata": {},
   "outputs": [],
   "source": [
    "clustering = Clustering(data, model, cluster_by_words=False, n_clusters=5)"
   ]
  },
  {
   "cell_type": "code",
   "execution_count": 8,
   "id": "a068ccb3",
   "metadata": {},
   "outputs": [
    {
     "name": "stdout",
     "output_type": "stream",
     "text": [
      "['German', 'mountains', 'museum', 'ice', 'just']\n"
     ]
    }
   ],
   "source": [
    "clustering.fit()\n",
    "topics = clustering.generate_topics()\n",
    "print(topics)"
   ]
  },
  {
   "cell_type": "code",
   "execution_count": 9,
   "id": "b518efb7",
   "metadata": {},
   "outputs": [
    {
     "data": {
      "image/png": "[encoded data removed]",
      "text/plain": [
       "<Figure size 1080x504 with 1 Axes>"
      ]
     },
     "metadata": {
      "needs_background": "light"
     },
     "output_type": "display_data"
    }
   ],
   "source": [
    "clustering.plot_clusters()"
   ]
  },
  {
   "cell_type": "markdown",
   "id": "6fa038d4",
   "metadata": {},
   "source": [
    "## Geographical data"
   ]
  },
  {
   "cell_type": "code",
   "execution_count": 33,
   "id": "6f70a56a",
   "metadata": {
    "scrolled": true
   },
   "outputs": [],
   "source": [
    "vec_by_topics = np.load('data/vec_articles.npy')\n",
    "articles = ArticlesGeo(data, topics, vec_by_topics)"
   ]
  },
  {
   "cell_type": "code",
   "execution_count": 34,
   "id": "99932b83",
   "metadata": {},
   "outputs": [],
   "source": [
    "choices = ['ski']\n",
    "\n",
    "user = User(topics, choices)"
   ]
  },
  {
   "cell_type": "code",
   "execution_count": 35,
   "id": "7c1db5eb",
   "metadata": {
    "scrolled": false
   },
   "outputs": [],
   "source": [
    "comb_ids, comb_vec, dist, coordinates = articles.get_geo_recommendations(user, max_dist=25, max_n_activities=1, n_recommendations=5, n_best_articles=100)"
   ]
  },
  {
   "cell_type": "markdown",
   "id": "e1fd4bf4",
   "metadata": {},
   "source": [
    "Show all the articles in the combinations"
   ]
  },
  {
   "cell_type": "code",
   "execution_count": 36,
   "id": "e6f15f8c",
   "metadata": {
    "scrolled": true
   },
   "outputs": [
    {
     "name": "stdout",
     "output_type": "stream",
     "text": [
      "0\n",
      "132 This preparatory course for the legendary ski race offers participants a chance to push their limits.\n",
      "\n",
      "1\n",
      "417 Learn to ski in the place where the world's top ski athletes compete: on Corviglia above St. Moritz. Your first ski lesson is rewarded with a carriage ride to the slope and back.\n",
      "\n",
      "2\n",
      "20 one, two, ski is a package specially designed for ski beginners. The package includes a skiing day pass, rental gear and a one-hour ski lesson with a qualified teacher. One, two, ski is the easiest way to start skiing.\n",
      "\n",
      "3\n",
      "397 Snowboarders and freestyle skiers will find perfect conditions in the Gran Masta Park next to the Brenggen ski lift on the Hahnenmoos.\n",
      "\n",
      "4\n",
      "66 Ski touring doesn’t always have to mean a remote 3,000-metre peak. You can also try ski touring in ski resorts. Villars not only offers marked routes, but also introductory packages with everything you need for a ski tour.\n",
      "\n"
     ]
    }
   ],
   "source": [
    "for i, comb in enumerate(comb_ids):\n",
    "    print(i)\n",
    "    for article in comb:\n",
    "        print(article, articles.get_summary(article))\n",
    "        print()"
   ]
  },
  {
   "cell_type": "markdown",
   "id": "14a00b0e",
   "metadata": {},
   "source": [
    "Visualize combinations in the map"
   ]
  },
  {
   "cell_type": "code",
   "execution_count": 38,
   "id": "6eae3fa1",
   "metadata": {},
   "outputs": [],
   "source": [
    "CH_COOR = [46.8, 8.8]  # coordinates of the center of Switzerland\n",
    "COLORS = ['red', 'blue', 'green', 'purple', 'orange', 'darkred',\n",
    "          'lightred', 'beige', 'darkblue', 'darkgreen', 'cadetblue',\n",
    "          'darkpurple', 'white', 'pink', 'lightblue', 'lightgreen', 'gray', 'black', 'lightgray']"
   ]
  },
  {
   "cell_type": "code",
   "execution_count": 39,
   "id": "cee3d90a",
   "metadata": {},
   "outputs": [
    {
     "data": {
      "text/html": [
       "<div style=\"width:100%;\"><div style=\"position:relative;width:100%;height:0;padding-bottom:60%;\"><span style=\"color:#565656\">Make this Notebook Trusted to load map: File -> Trust Notebook</span><iframe src=\"about:blank\" style=\"position:absolute;width:100%;height:100%;left:0;top:0;border:none !important;\" data-html=%3C%21DOCTYPE%20html%3E%0A%3Chead%3E%20%20%20%20%0A%20%20%20%20%3Cmeta%20http-equiv%3D%22content-type%22%20content%3D%22text/html%3B%20charset%3DUTF-8%22%20/%3E%0A%20%20%20%20%0A%20%20%20%20%20%20%20%20%3Cscript%3E%0A%20%20%20%20%20%20%20%20%20%20%20%20L_NO_TOUCH%20%3D%20false%3B%0A%20%20%20%20%20%20%20%20%20%20%20%20L_DISABLE_3D%20%3D%20false%3B%0A%20%20%20%20%20%20%20%20%3C/script%3E%0A%20%20%20%20%0A%20%20%20%20%3Cstyle%3Ehtml%2C%20body%20%7Bwidth%3A%20100%25%3Bheight%3A%20100%25%3Bmargin%3A%200%3Bpadding%3A%200%3B%7D%3C/style%3E%0A%20%20%20%20%3Cstyle%3E%23map%20%7Bposition%3Aabsolute%3Btop%3A0%3Bbottom%3A0%3Bright%3A0%3Bleft%3A0%3B%7D%3C/style%3E%0A%20%20%20%20%3Cscript%20src%3D%22https%3A//cdn.jsdelivr.net/npm/leaflet%401.6.0/dist/leaflet.js%22%3E%3C/script%3E%0A%20%20%20%20%3Cscript%20src%3D%22https%3A//code.jquery.com/jquery-1.12.4.min.js%22%3E%3C/script%3E%0A%20%20%20%20%3Cscript%20src%3D%22https%3A//maxcdn.bootstrapcdn.com/bootstrap/3.2.0/js/bootstrap.min.js%22%3E%3C/script%3E%0A%20%20%20%20%3Cscript%20src%3D%22https%3A//cdnjs.cloudflare.com/ajax/libs/Leaflet.awesome-markers/2.0.2/leaflet.awesome-markers.js%22%3E%3C/script%3E%0A%20%20%20%20%3Clink%20rel%3D%22stylesheet%22%20href%3D%22https%3A//cdn.jsdelivr.net/npm/leaflet%401.6.0/dist/leaflet.css%22/%3E%0A%20%20%20%20%3Clink%20rel%3D%22stylesheet%22%20href%3D%22https%3A//maxcdn.bootstrapcdn.com/bootstrap/3.2.0/css/bootstrap.min.css%22/%3E%0A%20%20%20%20%3Clink%20rel%3D%22stylesheet%22%20href%3D%22https%3A//maxcdn.bootstrapcdn.com/bootstrap/3.2.0/css/bootstrap-theme.min.css%22/%3E%0A%20%20%20%20%3Clink%20rel%3D%22stylesheet%22%20href%3D%22https%3A//maxcdn.bootstrapcdn.com/font-awesome/4.6.3/css/font-awesome.min.css%22/%3E%0A%20%20%20%20%3Clink%20rel%3D%22stylesheet%22%20href%3D%22https%3A//cdnjs.cloudflare.com/ajax/libs/Leaflet.awesome-markers/2.0.2/leaflet.awesome-markers.css%22/%3E%0A%20%20%20%20%3Clink%20rel%3D%22stylesheet%22%20href%3D%22https%3A//cdn.jsdelivr.net/gh/python-visualization/folium/folium/templates/leaflet.awesome.rotate.min.css%22/%3E%0A%20%20%20%20%0A%20%20%20%20%20%20%20%20%20%20%20%20%3Cmeta%20name%3D%22viewport%22%20content%3D%22width%3Ddevice-width%2C%0A%20%20%20%20%20%20%20%20%20%20%20%20%20%20%20%20initial-scale%3D1.0%2C%20maximum-scale%3D1.0%2C%20user-scalable%3Dno%22%20/%3E%0A%20%20%20%20%20%20%20%20%20%20%20%20%3Cstyle%3E%0A%20%20%20%20%20%20%20%20%20%20%20%20%20%20%20%20%23map_ff5205da17a04448a7f30da14e3859cf%20%7B%0A%20%20%20%20%20%20%20%20%20%20%20%20%20%20%20%20%20%20%20%20position%3A%20relative%3B%0A%20%20%20%20%20%20%20%20%20%20%20%20%20%20%20%20%20%20%20%20width%3A%20800.0px%3B%0A%20%20%20%20%20%20%20%20%20%20%20%20%20%20%20%20%20%20%20%20height%3A%20400.0px%3B%0A%20%20%20%20%20%20%20%20%20%20%20%20%20%20%20%20%20%20%20%20left%3A%200.0%25%3B%0A%20%20%20%20%20%20%20%20%20%20%20%20%20%20%20%20%20%20%20%20top%3A%200.0%25%3B%0A%20%20%20%20%20%20%20%20%20%20%20%20%20%20%20%20%7D%0A%20%20%20%20%20%20%20%20%20%20%20%20%3C/style%3E%0A%20%20%20%20%20%20%20%20%0A%3C/head%3E%0A%3Cbody%3E%20%20%20%20%0A%20%20%20%20%0A%20%20%20%20%20%20%20%20%20%20%20%20%3Cdiv%20class%3D%22folium-map%22%20id%3D%22map_ff5205da17a04448a7f30da14e3859cf%22%20%3E%3C/div%3E%0A%20%20%20%20%20%20%20%20%0A%3C/body%3E%0A%3Cscript%3E%20%20%20%20%0A%20%20%20%20%0A%20%20%20%20%20%20%20%20%20%20%20%20var%20map_ff5205da17a04448a7f30da14e3859cf%20%3D%20L.map%28%0A%20%20%20%20%20%20%20%20%20%20%20%20%20%20%20%20%22map_ff5205da17a04448a7f30da14e3859cf%22%2C%0A%20%20%20%20%20%20%20%20%20%20%20%20%20%20%20%20%7B%0A%20%20%20%20%20%20%20%20%20%20%20%20%20%20%20%20%20%20%20%20center%3A%20%5B46.8%2C%208.8%5D%2C%0A%20%20%20%20%20%20%20%20%20%20%20%20%20%20%20%20%20%20%20%20crs%3A%20L.CRS.EPSG3857%2C%0A%20%20%20%20%20%20%20%20%20%20%20%20%20%20%20%20%20%20%20%20zoom%3A%207%2C%0A%20%20%20%20%20%20%20%20%20%20%20%20%20%20%20%20%20%20%20%20zoomControl%3A%20true%2C%0A%20%20%20%20%20%20%20%20%20%20%20%20%20%20%20%20%20%20%20%20preferCanvas%3A%20false%2C%0A%20%20%20%20%20%20%20%20%20%20%20%20%20%20%20%20%7D%0A%20%20%20%20%20%20%20%20%20%20%20%20%29%3B%0A%0A%20%20%20%20%20%20%20%20%20%20%20%20%0A%0A%20%20%20%20%20%20%20%20%0A%20%20%20%20%0A%20%20%20%20%20%20%20%20%20%20%20%20var%20tile_layer_5f40e8a8af3b458da4e5357a7bd60e93%20%3D%20L.tileLayer%28%0A%20%20%20%20%20%20%20%20%20%20%20%20%20%20%20%20%22https%3A//cartodb-basemaps-%7Bs%7D.global.ssl.fastly.net/light_all/%7Bz%7D/%7Bx%7D/%7By%7D.png%22%2C%0A%20%20%20%20%20%20%20%20%20%20%20%20%20%20%20%20%7B%22attribution%22%3A%20%22%5Cu0026copy%3B%20%5Cu003ca%20href%3D%5C%22http%3A//www.openstreetmap.org/copyright%5C%22%5Cu003eOpenStreetMap%5Cu003c/a%5Cu003e%20contributors%20%5Cu0026copy%3B%20%5Cu003ca%20href%3D%5C%22http%3A//cartodb.com/attributions%5C%22%5Cu003eCartoDB%5Cu003c/a%5Cu003e%2C%20CartoDB%20%5Cu003ca%20href%20%3D%5C%22http%3A//cartodb.com/attributions%5C%22%5Cu003eattributions%5Cu003c/a%5Cu003e%22%2C%20%22detectRetina%22%3A%20false%2C%20%22maxNativeZoom%22%3A%2018%2C%20%22maxZoom%22%3A%2018%2C%20%22minZoom%22%3A%200%2C%20%22noWrap%22%3A%20false%2C%20%22opacity%22%3A%201%2C%20%22subdomains%22%3A%20%22abc%22%2C%20%22tms%22%3A%20false%7D%0A%20%20%20%20%20%20%20%20%20%20%20%20%29.addTo%28map_ff5205da17a04448a7f30da14e3859cf%29%3B%0A%20%20%20%20%20%20%20%20%0A%20%20%20%20%0A%20%20%20%20%20%20%20%20%20%20%20%20var%20circle_marker_a21b7a7970b143ffb730b80945d88220%20%3D%20L.circleMarker%28%0A%20%20%20%20%20%20%20%20%20%20%20%20%20%20%20%20%5B46.45843%2C%207.44266%5D%2C%0A%20%20%20%20%20%20%20%20%20%20%20%20%20%20%20%20%7B%22bubblingMouseEvents%22%3A%20true%2C%20%22color%22%3A%20%22red%22%2C%20%22dashArray%22%3A%20null%2C%20%22dashOffset%22%3A%20null%2C%20%22fill%22%3A%20false%2C%20%22fillColor%22%3A%20%22red%22%2C%20%22fillOpacity%22%3A%200.2%2C%20%22fillRule%22%3A%20%22evenodd%22%2C%20%22lineCap%22%3A%20%22round%22%2C%20%22lineJoin%22%3A%20%22round%22%2C%20%22opacity%22%3A%201.0%2C%20%22radius%22%3A%201%2C%20%22stroke%22%3A%20true%2C%20%22weight%22%3A%203%7D%0A%20%20%20%20%20%20%20%20%20%20%20%20%29.addTo%28map_ff5205da17a04448a7f30da14e3859cf%29%3B%0A%20%20%20%20%20%20%20%20%0A%20%20%20%20%0A%20%20%20%20%20%20%20%20%20%20%20%20var%20circle_marker_7f2baa7e148749df83edc8422680cfbe%20%3D%20L.circleMarker%28%0A%20%20%20%20%20%20%20%20%20%20%20%20%20%20%20%20%5B46.37915%2C%207.62928%5D%2C%0A%20%20%20%20%20%20%20%20%20%20%20%20%20%20%20%20%7B%22bubblingMouseEvents%22%3A%20true%2C%20%22color%22%3A%20%22red%22%2C%20%22dashArray%22%3A%20null%2C%20%22dashOffset%22%3A%20null%2C%20%22fill%22%3A%20false%2C%20%22fillColor%22%3A%20%22red%22%2C%20%22fillOpacity%22%3A%200.2%2C%20%22fillRule%22%3A%20%22evenodd%22%2C%20%22lineCap%22%3A%20%22round%22%2C%20%22lineJoin%22%3A%20%22round%22%2C%20%22opacity%22%3A%201.0%2C%20%22radius%22%3A%201%2C%20%22stroke%22%3A%20true%2C%20%22weight%22%3A%203%7D%0A%20%20%20%20%20%20%20%20%20%20%20%20%29.addTo%28map_ff5205da17a04448a7f30da14e3859cf%29%3B%0A%20%20%20%20%20%20%20%20%0A%20%20%20%20%0A%20%20%20%20%20%20%20%20%20%20%20%20var%20circle_marker_40c9503f268b4d4c927fd0010ee426a0%20%3D%20L.circleMarker%28%0A%20%20%20%20%20%20%20%20%20%20%20%20%20%20%20%20%5B46.5297%2C%208.9414%5D%2C%0A%20%20%20%20%20%20%20%20%20%20%20%20%20%20%20%20%7B%22bubblingMouseEvents%22%3A%20true%2C%20%22color%22%3A%20%22blue%22%2C%20%22dashArray%22%3A%20null%2C%20%22dashOffset%22%3A%20null%2C%20%22fill%22%3A%20false%2C%20%22fillColor%22%3A%20%22blue%22%2C%20%22fillOpacity%22%3A%200.2%2C%20%22fillRule%22%3A%20%22evenodd%22%2C%20%22lineCap%22%3A%20%22round%22%2C%20%22lineJoin%22%3A%20%22round%22%2C%20%22opacity%22%3A%201.0%2C%20%22radius%22%3A%201%2C%20%22stroke%22%3A%20true%2C%20%22weight%22%3A%203%7D%0A%20%20%20%20%20%20%20%20%20%20%20%20%29.addTo%28map_ff5205da17a04448a7f30da14e3859cf%29%3B%0A%20%20%20%20%20%20%20%20%0A%20%20%20%20%0A%20%20%20%20%20%20%20%20%20%20%20%20var%20circle_marker_0509a3ac729245dfbab34940baa5cc32%20%3D%20L.circleMarker%28%0A%20%20%20%20%20%20%20%20%20%20%20%20%20%20%20%20%5B46.6173%2C%209.18057%5D%2C%0A%20%20%20%20%20%20%20%20%20%20%20%20%20%20%20%20%7B%22bubblingMouseEvents%22%3A%20true%2C%20%22color%22%3A%20%22blue%22%2C%20%22dashArray%22%3A%20null%2C%20%22dashOffset%22%3A%20null%2C%20%22fill%22%3A%20false%2C%20%22fillColor%22%3A%20%22blue%22%2C%20%22fillOpacity%22%3A%200.2%2C%20%22fillRule%22%3A%20%22evenodd%22%2C%20%22lineCap%22%3A%20%22round%22%2C%20%22lineJoin%22%3A%20%22round%22%2C%20%22opacity%22%3A%201.0%2C%20%22radius%22%3A%201%2C%20%22stroke%22%3A%20true%2C%20%22weight%22%3A%203%7D%0A%20%20%20%20%20%20%20%20%20%20%20%20%29.addTo%28map_ff5205da17a04448a7f30da14e3859cf%29%3B%0A%20%20%20%20%20%20%20%20%0A%20%20%20%20%0A%20%20%20%20%20%20%20%20%20%20%20%20var%20circle_marker_3c31cb3b1fad48e68592e52cef1d5735%20%3D%20L.circleMarker%28%0A%20%20%20%20%20%20%20%20%20%20%20%20%20%20%20%20%5B47.00356%2C%209.5016%5D%2C%0A%20%20%20%20%20%20%20%20%20%20%20%20%20%20%20%20%7B%22bubblingMouseEvents%22%3A%20true%2C%20%22color%22%3A%20%22green%22%2C%20%22dashArray%22%3A%20null%2C%20%22dashOffset%22%3A%20null%2C%20%22fill%22%3A%20false%2C%20%22fillColor%22%3A%20%22green%22%2C%20%22fillOpacity%22%3A%200.2%2C%20%22fillRule%22%3A%20%22evenodd%22%2C%20%22lineCap%22%3A%20%22round%22%2C%20%22lineJoin%22%3A%20%22round%22%2C%20%22opacity%22%3A%201.0%2C%20%22radius%22%3A%201%2C%20%22stroke%22%3A%20true%2C%20%22weight%22%3A%203%7D%0A%20%20%20%20%20%20%20%20%20%20%20%20%29.addTo%28map_ff5205da17a04448a7f30da14e3859cf%29%3B%0A%20%20%20%20%20%20%20%20%0A%20%20%20%20%0A%20%20%20%20%20%20%20%20%20%20%20%20var%20circle_marker_c53a69d5d560461b98cd5b5fe1b06029%20%3D%20L.circleMarker%28%0A%20%20%20%20%20%20%20%20%20%20%20%20%20%20%20%20%5B47.11694%2C%209.54411%5D%2C%0A%20%20%20%20%20%20%20%20%20%20%20%20%20%20%20%20%7B%22bubblingMouseEvents%22%3A%20true%2C%20%22color%22%3A%20%22green%22%2C%20%22dashArray%22%3A%20null%2C%20%22dashOffset%22%3A%20null%2C%20%22fill%22%3A%20false%2C%20%22fillColor%22%3A%20%22green%22%2C%20%22fillOpacity%22%3A%200.2%2C%20%22fillRule%22%3A%20%22evenodd%22%2C%20%22lineCap%22%3A%20%22round%22%2C%20%22lineJoin%22%3A%20%22round%22%2C%20%22opacity%22%3A%201.0%2C%20%22radius%22%3A%201%2C%20%22stroke%22%3A%20true%2C%20%22weight%22%3A%203%7D%0A%20%20%20%20%20%20%20%20%20%20%20%20%29.addTo%28map_ff5205da17a04448a7f30da14e3859cf%29%3B%0A%20%20%20%20%20%20%20%20%0A%20%20%20%20%0A%20%20%20%20%20%20%20%20%20%20%20%20var%20circle_marker_78ab63362bb0463bbb9a6139d4b4d862%20%3D%20L.circleMarker%28%0A%20%20%20%20%20%20%20%20%20%20%20%20%20%20%20%20%5B47.07842%2C%208.63415%5D%2C%0A%20%20%20%20%20%20%20%20%20%20%20%20%20%20%20%20%7B%22bubblingMouseEvents%22%3A%20true%2C%20%22color%22%3A%20%22purple%22%2C%20%22dashArray%22%3A%20null%2C%20%22dashOffset%22%3A%20null%2C%20%22fill%22%3A%20false%2C%20%22fillColor%22%3A%20%22purple%22%2C%20%22fillOpacity%22%3A%200.2%2C%20%22fillRule%22%3A%20%22evenodd%22%2C%20%22lineCap%22%3A%20%22round%22%2C%20%22lineJoin%22%3A%20%22round%22%2C%20%22opacity%22%3A%201.0%2C%20%22radius%22%3A%201%2C%20%22stroke%22%3A%20true%2C%20%22weight%22%3A%203%7D%0A%20%20%20%20%20%20%20%20%20%20%20%20%29.addTo%28map_ff5205da17a04448a7f30da14e3859cf%29%3B%0A%20%20%20%20%20%20%20%20%0A%20%20%20%20%0A%20%20%20%20%20%20%20%20%20%20%20%20var%20circle_marker_63758d515f72454dbf1cee0dc4567804%20%3D%20L.circleMarker%28%0A%20%20%20%20%20%20%20%20%20%20%20%20%20%20%20%20%5B47.05555%2C%208.48505%5D%2C%0A%20%20%20%20%20%20%20%20%20%20%20%20%20%20%20%20%7B%22bubblingMouseEvents%22%3A%20true%2C%20%22color%22%3A%20%22purple%22%2C%20%22dashArray%22%3A%20null%2C%20%22dashOffset%22%3A%20null%2C%20%22fill%22%3A%20false%2C%20%22fillColor%22%3A%20%22purple%22%2C%20%22fillOpacity%22%3A%200.2%2C%20%22fillRule%22%3A%20%22evenodd%22%2C%20%22lineCap%22%3A%20%22round%22%2C%20%22lineJoin%22%3A%20%22round%22%2C%20%22opacity%22%3A%201.0%2C%20%22radius%22%3A%201%2C%20%22stroke%22%3A%20true%2C%20%22weight%22%3A%203%7D%0A%20%20%20%20%20%20%20%20%20%20%20%20%29.addTo%28map_ff5205da17a04448a7f30da14e3859cf%29%3B%0A%20%20%20%20%20%20%20%20%0A%20%20%20%20%0A%20%20%20%20%20%20%20%20%20%20%20%20var%20circle_marker_bbfa35b5c1144577ba00f8df4164429e%20%3D%20L.circleMarker%28%0A%20%20%20%20%20%20%20%20%20%20%20%20%20%20%20%20%5B46.21979%2C%207.01822%5D%2C%0A%20%20%20%20%20%20%20%20%20%20%20%20%20%20%20%20%7B%22bubblingMouseEvents%22%3A%20true%2C%20%22color%22%3A%20%22orange%22%2C%20%22dashArray%22%3A%20null%2C%20%22dashOffset%22%3A%20null%2C%20%22fill%22%3A%20false%2C%20%22fillColor%22%3A%20%22orange%22%2C%20%22fillOpacity%22%3A%200.2%2C%20%22fillRule%22%3A%20%22evenodd%22%2C%20%22lineCap%22%3A%20%22round%22%2C%20%22lineJoin%22%3A%20%22round%22%2C%20%22opacity%22%3A%201.0%2C%20%22radius%22%3A%201%2C%20%22stroke%22%3A%20true%2C%20%22weight%22%3A%203%7D%0A%20%20%20%20%20%20%20%20%20%20%20%20%29.addTo%28map_ff5205da17a04448a7f30da14e3859cf%29%3B%0A%20%20%20%20%20%20%20%20%0A%20%20%20%20%0A%20%20%20%20%20%20%20%20%20%20%20%20var%20circle_marker_fa2b18996ab84dbfb292388df9e47302%20%3D%20L.circleMarker%28%0A%20%20%20%20%20%20%20%20%20%20%20%20%20%20%20%20%5B46.29748%2C%207.05513%5D%2C%0A%20%20%20%20%20%20%20%20%20%20%20%20%20%20%20%20%7B%22bubblingMouseEvents%22%3A%20true%2C%20%22color%22%3A%20%22orange%22%2C%20%22dashArray%22%3A%20null%2C%20%22dashOffset%22%3A%20null%2C%20%22fill%22%3A%20false%2C%20%22fillColor%22%3A%20%22orange%22%2C%20%22fillOpacity%22%3A%200.2%2C%20%22fillRule%22%3A%20%22evenodd%22%2C%20%22lineCap%22%3A%20%22round%22%2C%20%22lineJoin%22%3A%20%22round%22%2C%20%22opacity%22%3A%201.0%2C%20%22radius%22%3A%201%2C%20%22stroke%22%3A%20true%2C%20%22weight%22%3A%203%7D%0A%20%20%20%20%20%20%20%20%20%20%20%20%29.addTo%28map_ff5205da17a04448a7f30da14e3859cf%29%3B%0A%20%20%20%20%20%20%20%20%0A%3C/script%3E onload=\"this.contentDocument.open();this.contentDocument.write(    decodeURIComponent(this.getAttribute('data-html')));this.contentDocument.close();\" allowfullscreen webkitallowfullscreen mozallowfullscreen></iframe></div></div>"
      ],
      "text/plain": [
       "<folium.folium.Map at 0x1e294d5ff40>"
      ]
     },
     "execution_count": 39,
     "metadata": {},
     "output_type": "execute_result"
    }
   ],
   "source": [
    "mapp = folium.Map(location=CH_COOR, zoom_start=7,\n",
    "                     tiles='cartodbpositron', width=800, height=400)\n",
    "_ = [[folium.CircleMarker(location=c, radius=1,\n",
    "                     color=COLORS[i%len(COLORS)]).add_to(mapp)\n",
    " for c in coor] for i, coor in enumerate(coordinates)]\n",
    "mapp"
   ]
  }
 ],
 "metadata": {
  "kernelspec": {
   "display_name": "Python 3 (ipykernel)",
   "language": "python",
   "name": "python3"
  },
  "language_info": {
   "codemirror_mode": {
    "name": "ipython",
    "version": 3
   },
   "file_extension": ".py",
   "mimetype": "text/x-python",
   "name": "python",
   "nbconvert_exporter": "python",
   "pygments_lexer": "ipython3",
   "version": "3.8.3"
  }
 },
 "nbformat": 4,
 "nbformat_minor": 5
}
