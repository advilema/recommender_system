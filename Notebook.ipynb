{
 "cells": [
  {
   "cell_type": "code",
   "execution_count": 1,
   "id": "add2de20",
   "metadata": {},
   "outputs": [
    {
     "name": "stderr",
     "output_type": "stream",
     "text": [
      "C:\\Users\\pc\\anaconda3\\lib\\site-packages\\gensim\\similarities\\__init__.py:15: UserWarning: The gensim.similarities.levenshtein submodule is disabled, because the optional Levenshtein package <https://pypi.org/project/python-Levenshtein/> is unavailable. Install Levenhstein (e.g. `pip install python-Levenshtein`) to suppress this warning.\n",
      "  warnings.warn(msg)\n"
     ]
    }
   ],
   "source": [
    "from recommender.User import User\n",
    "from recommender.Articles import ArticlesModel, ArticlesVec, ArticlesGeo\n",
    "from recommender.Clustering import Clustering\n",
    "from recommender.DataLoader import DataLoader\n",
    "import numpy as np\n",
    "from gensim.models import KeyedVectors\n",
    "import gensim.downloader as api"
   ]
  },
  {
   "cell_type": "code",
   "execution_count": 2,
   "id": "d17e4a97",
   "metadata": {},
   "outputs": [],
   "source": [
    "model = KeyedVectors.load_word2vec_format(api.load('word2vec-google-news-300', return_path=True), binary=True, limit=100000)"
   ]
  },
  {
   "cell_type": "code",
   "execution_count": 3,
   "id": "950a517d",
   "metadata": {},
   "outputs": [],
   "source": [
    "topics = np.load('data/topics.npy')"
   ]
  },
  {
   "cell_type": "markdown",
   "id": "50a3a350",
   "metadata": {},
   "source": [
    "## DataLoader"
   ]
  },
  {
   "cell_type": "code",
   "execution_count": 4,
   "id": "5fedb88f",
   "metadata": {
    "scrolled": true
   },
   "outputs": [],
   "source": [
    "dataloader = DataLoader(model=model)\n",
    "data = dataloader.load_preprocess()"
   ]
  },
  {
   "cell_type": "markdown",
   "id": "ce371805",
   "metadata": {},
   "source": [
    "## Articles"
   ]
  },
  {
   "cell_type": "code",
   "execution_count": 5,
   "id": "6dd179be",
   "metadata": {},
   "outputs": [],
   "source": [
    "articles = ArticlesModel(data, topics, model)"
   ]
  },
  {
   "cell_type": "markdown",
   "id": "1d24ef76",
   "metadata": {},
   "source": [
    "#### Save articles vectorization based on the topics"
   ]
  },
  {
   "cell_type": "code",
   "execution_count": 6,
   "id": "a22be4e8",
   "metadata": {},
   "outputs": [],
   "source": [
    "articles.save_vec_by_topics()"
   ]
  },
  {
   "cell_type": "markdown",
   "id": "e7f78712",
   "metadata": {},
   "source": [
    "#### Get the summary of the best articles by arbitrary topic(s)"
   ]
  },
  {
   "cell_type": "code",
   "execution_count": 7,
   "id": "67ad991d",
   "metadata": {
    "scrolled": true
   },
   "outputs": [
    {
     "name": "stdout",
     "output_type": "stream",
     "text": [
      "The Rosenlaui Glacier, located to the south of Meiringen, in the canton of Bern, might be small, since it has an area of only six square kilometers, but thanks to this glacier two beautiful natural attractions have come into being - Glacier Gorge Rosenlaui and the world-famous Reichenbach Falls.\n",
      "\n",
      "Les Diablerets, an important centre for adventure sports, lies between Lake Geneva and Gstaad at an altitude of 1200 metres. Even in summer, the Glacier 3000 ski region in the heart of the Vaud Alps offers skiing and glacier enjoyment over an expansive area.\n",
      "\n",
      "The vacation region around the Black Lake and in the Eastern Freiburg Pre-Alps (Voralpen) is well-known for its authenticity and its wild, romantic natural landscape, which includes the dark appearance of the Black Lake and the Brecca Abyss, an Alpine valley formed by glaciers.\n",
      "\n",
      "The Bern bear pit is an attraction that is known far beyond the borders of Switzerland. Since 2009 the bears of Bern also have a modern 6,000 square meters park at their disposal - which they can reach via a tunnel.\n",
      "\n",
      "A singular panoramic view awaits: over the Swiss and French Alps from Eiger to Mont-Blanc and further to Lake Geneva.\n",
      "\n",
      "Lucerne’s Pilatus mountain (2,118m above sea level) boasts some of the most spectacular views in Switzerland. From the summit, you can see across the Central Swiss Alps and the Jura all the way to France and the Black Forest in Germany.\n",
      "\n",
      "Together with a mountain guide, the trappers wend their way through the snow-covered Diemtigtal Valley.\n",
      "\n",
      "Eastern Switzerland stretches from the shimmering waters of Lake Constance across the hilly Appenzellerland to the Alpine landscapes of Toggenburg, the Heidiland holiday region and the Glarnerland. Far off in the Rhine Valley is Vaduz with its princes' castle.\n",
      "\n",
      "Two gondola railways make their way up from Bad Ragaz or Wangs to the edge of the forest, from where you enjoy far-reaching views over the Rhine Valley to Lake Constance – and chairlifts carrying you to the Pizol ridge if you wish to venture further afield.\n",
      "\n",
      "Aarau, the capital of the Canton of Aargau in the Swiss Mittelland, is located on the River Aare to which the town and canton owe their name. The charming old town boasts the most beautiful eaves, the so-called «Dachhimmel», in Switzerland.\n",
      "\n"
     ]
    }
   ],
   "source": [
    "ids = articles.ids_top_articles_by_topic(['Bern', 'Mountain'])\n",
    "for idx in ids:\n",
    "    print(articles.get_summary(idx) + '\\n')"
   ]
  },
  {
   "cell_type": "markdown",
   "id": "10b43479",
   "metadata": {},
   "source": [
    "#### Get information about a specific article with known idx"
   ]
  },
  {
   "cell_type": "code",
   "execution_count": 8,
   "id": "ed3b345e",
   "metadata": {},
   "outputs": [
    {
     "name": "stdout",
     "output_type": "stream",
     "text": [
      "Situated in the heart of Gruyère, the city of Bulle is the administrative capital of this largely agricultural region and has a wealth of attractions to appeal to all tastes.\n",
      "\n",
      "In this preserved and unspoilt environment, the visitor can enjoy the most varied and seasonal activities in a pastoral setting.Firmly anchored in ancestral and typical traditions, its museum charts the marked development of the town and its surrounding region. Renowned as a cultural meeting place, the city boasts folk markets, livestock fairs, salons, exhibitions, theatres, concerts and shows which attract a very diverse public audience.The culinary arts remain the focal point for many visitors to Gruyère, and each year the local restaurants offer Bénichon feast menus alongside regional specialities.\n",
      "\n",
      "['Situated', 'heart', 'city', 'administrative', 'capital', 'largely', 'agricultural', 'region', 'wealth', 'attractions', 'appeal', 'tastes']\n",
      "\n",
      "[0.002184858836335123, 0.0018071947571787455, 0.7952866481551175, 0.022453390113669838, 0.004350147800714024, 0.018939921400954535, 0.0021903250386757474, 0.012648866869415982, 0.004920575198248505, 0.009439436870481197, 0.04824897701095342, 0.00850011718570069, 0.012790956741296735, 0.0016967994517226891, 0.0017185551889497164, 0.0122674470641717, 0.0016897189843685602, 0.020331330595795102, 0.01660586753059169, 0.0019288652056586475]\n"
     ]
    }
   ],
   "source": [
    "idx = 0\n",
    "\n",
    "summary = articles.get_summary(idx)\n",
    "content = articles.get_content(idx)\n",
    "preprocessed = articles.get_preprocessed(idx)\n",
    "vector = articles.get_vec(idx)\n",
    "\n",
    "print(summary, content, preprocessed, vector, sep='\\n\\n')"
   ]
  },
  {
   "cell_type": "markdown",
   "id": "341fe3a7",
   "metadata": {},
   "source": [
    "#### Plot topic weights for a given article"
   ]
  },
  {
   "cell_type": "code",
   "execution_count": 10,
   "id": "4e8022a2",
   "metadata": {
    "scrolled": true
   },
   "outputs": [
    {
     "name": "stdout",
     "output_type": "stream",
     "text": [
      "Situated in the heart of Gruyère, the city of Bulle is the administrative capital of this largely agricultural region and has a wealth of attractions to appeal to all tastes.\n"
     ]
    },
    {
     "data": {
      "image/png": "[encoded data removed]",
      "text/plain": [
       "<Figure size 720x360 with 1 Axes>"
      ]
     },
     "metadata": {
      "needs_background": "light"
     },
     "output_type": "display_data"
    }
   ],
   "source": [
    "idx = 0\n",
    "articles.plot_weights(idx)"
   ]
  },
  {
   "cell_type": "markdown",
   "id": "f4920f4e",
   "metadata": {},
   "source": [
    "#### Use a precomputed topics based vector representation for the articles to speed up the object initialization"
   ]
  },
  {
   "cell_type": "code",
   "execution_count": 8,
   "id": "3ebb1be1",
   "metadata": {},
   "outputs": [],
   "source": [
    "vec_by_topics = np.load('data/vec_articles.npy')\n",
    "articles = ArticlesVec(data, topics, vec_by_topics)"
   ]
  },
  {
   "cell_type": "markdown",
   "id": "ee0c9208",
   "metadata": {},
   "source": [
    "## User"
   ]
  },
  {
   "cell_type": "code",
   "execution_count": 5,
   "id": "1b6e5a60",
   "metadata": {},
   "outputs": [
    {
     "data": {
      "text/plain": [
       "array(['art', 'bike', 'city', 'culture', 'family', 'food', 'hiking',\n",
       "       'lake', 'luxury', 'mountains', 'museums', 'music', 'nature',\n",
       "       'relax', 'ski', 'spa', 'summer', 'traditions', 'wine', 'winter'],\n",
       "      dtype='<U10')"
      ]
     },
     "execution_count": 5,
     "metadata": {},
     "output_type": "execute_result"
    }
   ],
   "source": [
    "topics"
   ]
  },
  {
   "cell_type": "code",
   "execution_count": 6,
   "id": "5fc3a4d0",
   "metadata": {},
   "outputs": [],
   "source": [
    "choices = ['ski', 'spa']\n",
    "\n",
    "user = User(topics, choices)"
   ]
  },
  {
   "cell_type": "markdown",
   "id": "8d07b59d",
   "metadata": {},
   "source": [
    "#### Recommend articles for the user"
   ]
  },
  {
   "cell_type": "code",
   "execution_count": 20,
   "id": "8af5e31d",
   "metadata": {},
   "outputs": [
    {
     "name": "stdout",
     "output_type": "stream",
     "text": [
      "0: The striking viewing platform above Brunnen can be easily reached by chair lift from car-free Stoos. Gaze across the arms of Lake Lucerne to the Black Forest.\n",
      "\n",
      "1: This panoramic train connects the north of Europe to its south – right through the UNESCO World Heritage site of Rhaetian Railway, passing by glaciers on its way down to palm trees.\n",
      "\n",
      "2: At the very heart of Switzerland, a world record holding technical innovation awaits: the world’s steepest funicular leads from Schwyz up to Stoos.\n",
      "\n",
      "3: The snow park is open to skiers and snowboarders of all ages!\n",
      "\n",
      "4: The visitor trail provides a complete immersion into the brand, history and products of Cailler of Switzerland. The experience is sensitive, sensual and poetic, giving the visitor a window into the world of chocolate by means of a transparent and sparkling aesthetic.\n",
      "\n"
     ]
    }
   ],
   "source": [
    "n_recommendations = 5\n",
    "\n",
    "recommended_articles_ids, recommended_articles_vec = articles.recommend_articles(user, n_recommendations)\n",
    "for i, idx in enumerate(recommended_articles_ids):\n",
    "    print(i, articles.get_summary(idx), sep=': ', end='\\n\\n')"
   ]
  },
  {
   "cell_type": "code",
   "execution_count": 23,
   "id": "d5bb32f4",
   "metadata": {},
   "outputs": [],
   "source": [
    "seen_articles = [0,3]\n",
    "\n",
    "user.update(np.array(recommended_articles_vec)[seen_articles])\n",
    "user.add_seen_articles(np.array(recommended_articles_vec)[seen_articles])"
   ]
  },
  {
   "cell_type": "markdown",
   "id": "f68b15ad",
   "metadata": {},
   "source": [
    "#### Plot topic weights for the user"
   ]
  },
  {
   "cell_type": "code",
   "execution_count": 24,
   "id": "90a80bc7",
   "metadata": {
    "scrolled": true
   },
   "outputs": [
    {
     "data": {
      "image/png": "[encoded data removed]",
      "text/plain": [
       "<Figure size 720x360 with 1 Axes>"
      ]
     },
     "metadata": {
      "needs_background": "light"
     },
     "output_type": "display_data"
    }
   ],
   "source": [
    "user.plot_weights()"
   ]
  },
  {
   "cell_type": "markdown",
   "id": "381867f1",
   "metadata": {},
   "source": [
    "## Clustering"
   ]
  },
  {
   "cell_type": "code",
   "execution_count": 17,
   "id": "c9b2f8ed",
   "metadata": {},
   "outputs": [],
   "source": [
    "clustering = Clustering(data, model, cluster_by_words=False, n_clusters=5)"
   ]
  },
  {
   "cell_type": "code",
   "execution_count": 18,
   "id": "a068ccb3",
   "metadata": {},
   "outputs": [
    {
     "name": "stdout",
     "output_type": "stream",
     "text": [
      "['ice', 'mountains', 'museum', 'just', 'German']\n"
     ]
    }
   ],
   "source": [
    "clustering.fit()\n",
    "topics = clustering.generate_topics()\n",
    "print(topics)"
   ]
  },
  {
   "cell_type": "code",
   "execution_count": 1,
   "id": "b518efb7",
   "metadata": {
    "collapsed": true
   },
   "outputs": [
    {
     "ename": "NameError",
     "evalue": "name 'clustering' is not defined",
     "output_type": "error",
     "traceback": [
      "\u001b[1;31m---------------------------------------------------------------------------\u001b[0m",
      "\u001b[1;31mNameError\u001b[0m                                 Traceback (most recent call last)",
      "\u001b[1;32m~\\AppData\\Local\\Temp/ipykernel_25184/2996303321.py\u001b[0m in \u001b[0;36m<module>\u001b[1;34m\u001b[0m\n\u001b[1;32m----> 1\u001b[1;33m \u001b[0mclustering\u001b[0m\u001b[1;33m.\u001b[0m\u001b[0mplot_clusters\u001b[0m\u001b[1;33m(\u001b[0m\u001b[1;33m)\u001b[0m\u001b[1;33m\u001b[0m\u001b[1;33m\u001b[0m\u001b[0m\n\u001b[0m",
      "\u001b[1;31mNameError\u001b[0m: name 'clustering' is not defined"
     ]
    }
   ],
   "source": [
    "clustering.plot_clusters()"
   ]
  },
  {
   "cell_type": "markdown",
   "id": "6fa038d4",
   "metadata": {},
   "source": [
    "## Geographical data"
   ]
  },
  {
   "cell_type": "code",
   "execution_count": null,
   "id": "0552dd55",
   "metadata": {},
   "outputs": [],
   "source": [
    "import folium"
   ]
  },
  {
   "cell_type": "code",
   "execution_count": 34,
   "id": "6f70a56a",
   "metadata": {},
   "outputs": [],
   "source": [
    "vec_by_topics = np.load('data/vec_articles.npy')\n",
    "articles = ArticlesGeo(data, topics, vec_by_topics)"
   ]
  },
  {
   "cell_type": "code",
   "execution_count": 35,
   "id": "99932b83",
   "metadata": {},
   "outputs": [],
   "source": [
    "choices = ['city']\n",
    "\n",
    "user = User(topics, choices)"
   ]
  },
  {
   "cell_type": "code",
   "execution_count": 36,
   "id": "7c1db5eb",
   "metadata": {
    "scrolled": false
   },
   "outputs": [],
   "source": [
    "comb_ids, comb_vec, dist, coordinates = articles.get_geo_recommendations(user, max_dist=5, max_n_activities=1, n_recommendations=5, n_best_articles=100)"
   ]
  },
  {
   "cell_type": "code",
   "execution_count": 38,
   "id": "e6f15f8c",
   "metadata": {},
   "outputs": [
    {
     "name": "stdout",
     "output_type": "stream",
     "text": [
      "0\n",
      "199 The latest attraction in the city of Fribourg – Espace 1606 – takes us on a journey back to the year 1606, and shows us what the bilingual city looked like then based on a model made from an original etching by copper engraver Martin Martini.\n",
      "\n",
      "1\n",
      "173 The well-preserved castle of Neuchâtel, which is over 1,000 years old and from which the city gets its name, towers above the small city of Neuchâtel. From here, you have the best view for miles.\n",
      "\n",
      "2\n",
      "442 Italy lies right next to Geneva... Even though it hasn't been a royal Savoyard city for nearly 200 years, but belongs to Switzerland, the city of Carouge, which was designed by Italian architects, has retained its Latin charm to this day.\n",
      "\n",
      "3\n",
      "54 Raphaël describes Lausanne as “the city where everything is nearby, the town with superb panoramic views, Switzerland's Côte d’Azur”.\n",
      "\n",
      "4\n",
      "798 The cathedral is a fitting symbol of the episcopal city of Chur. Somewhat plain from the outside, it impresses with its magnificent interior.\n",
      "\n"
     ]
    }
   ],
   "source": [
    "for i, comb in enumerate(comb_ids):\n",
    "    print(i)\n",
    "    for article in comb:\n",
    "        print(article, articles.get_summary(article))\n",
    "        print()"
   ]
  }
 ],
 "metadata": {
  "kernelspec": {
   "display_name": "Python 3 (ipykernel)",
   "language": "python",
   "name": "python3"
  },
  "language_info": {
   "codemirror_mode": {
    "name": "ipython",
    "version": 3
   },
   "file_extension": ".py",
   "mimetype": "text/x-python",
   "name": "python",
   "nbconvert_exporter": "python",
   "pygments_lexer": "ipython3",
   "version": "3.8.3"
  }
 },
 "nbformat": 4,
 "nbformat_minor": 5
}
